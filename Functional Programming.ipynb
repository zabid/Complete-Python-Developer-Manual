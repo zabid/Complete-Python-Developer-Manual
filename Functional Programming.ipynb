{
 "cells": [
  {
   "cell_type": "markdown",
   "id": "3c102256",
   "metadata": {},
   "source": [
    "# 7. Advanced Python: Functional Programming\n"
   ]
  },
  {
   "cell_type": "markdown",
   "id": "ea7548fe",
   "metadata": {},
   "source": [
    " - Functional programming is separation of concerns\n",
    " - packaging our code in chunks so that everything is well organized based on functionality\n",
    " - one thing its good at\n",
    " - separate data and behaviour/functionality, unlike OOP\n",
    " -Makes our code:\n",
    " \n",
    "     1. clean + understandable\n",
    "     2. easy to extend -> grow\n",
    "     3. easy to maintain -> not storing\n",
    "     4. memory efficient\n",
    "     5. dry -> non-redundant"
   ]
  },
  {
   "cell_type": "markdown",
   "id": "ecb6220b",
   "metadata": {},
   "source": [
    "## 7.a Pure Functions\n"
   ]
  },
  {
   "cell_type": "markdown",
   "id": "63bc0c69",
   "metadata": {},
   "source": [
    "They are used to :\n",
    " - one input, always only one and same output\n",
    " - should not produce side effects. It shouldn't create changes in outside world of the function. i.e. printing. it displays something on the screen, which is the out side world\n",
    " - They help because it creates less-bug code. It is better to understand and modify without many errors.\n",
    " - Things not touching each other and being discrete"
   ]
  },
  {
   "cell_type": "markdown",
   "id": "f5278152",
   "metadata": {},
   "source": [
    "### Map Fucntion\n",
    "\n",
    "- map(fun, iterable) -> returns the obj"
   ]
  },
  {
   "cell_type": "code",
   "execution_count": 3,
   "id": "9459d2a5",
   "metadata": {},
   "outputs": [
    {
     "name": "stdout",
     "output_type": "stream",
     "text": [
      "[0, 2, 4, 6, 8, 10, 12, 14, 16, 18]\n"
     ]
    }
   ],
   "source": [
    "def mul2(num):\n",
    "    return num * 2\n",
    "print(list(map(mul2,list(range(10)))))"
   ]
  }
 ],
 "metadata": {
  "kernelspec": {
   "display_name": "Python 3",
   "language": "python",
   "name": "python3"
  },
  "language_info": {
   "codemirror_mode": {
    "name": "ipython",
    "version": 3
   },
   "file_extension": ".py",
   "mimetype": "text/x-python",
   "name": "python",
   "nbconvert_exporter": "python",
   "pygments_lexer": "ipython3",
   "version": "3.8.8"
  }
 },
 "nbformat": 4,
 "nbformat_minor": 5
}
